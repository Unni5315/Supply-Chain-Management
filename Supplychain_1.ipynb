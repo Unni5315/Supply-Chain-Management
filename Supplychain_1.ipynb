{
  "nbformat": 4,
  "nbformat_minor": 0,
  "metadata": {
    "colab": {
      "provenance": []
    },
    "kernelspec": {
      "name": "python3",
      "display_name": "Python 3"
    },
    "language_info": {
      "name": "python"
    }
  },
  "cells": [
    {
      "cell_type": "code",
      "source": [
        "import pandas as pd\n",
        "import matplotlib.pyplot as plt\n",
        "import seaborn as sns"
      ],
      "metadata": {
        "id": "VP2j04hvXbp0"
      },
      "execution_count": 112,
      "outputs": []
    },
    {
      "cell_type": "code",
      "source": [
        "from sklearn.model_selection import train_test_split\n",
        "from sklearn.preprocessing import StandardScaler, LabelEncoder\n",
        "from sklearn.linear_model import LinearRegression\n",
        "from sklearn.tree import DecisionTreeRegressor\n",
        "from sklearn.ensemble import RandomForestRegressor\n",
        "from sklearn.metrics import mean_absolute_error, mean_squared_error"
      ],
      "metadata": {
        "id": "BeU9-LIzXb9U"
      },
      "execution_count": 113,
      "outputs": []
    },
    {
      "cell_type": "code",
      "source": [
        "data = pd.read_csv(\"/content/supply_train.csv\")"
      ],
      "metadata": {
        "id": "GO_5z9YxXcEz"
      },
      "execution_count": 114,
      "outputs": []
    },
    {
      "cell_type": "code",
      "source": [
        "data = data.drop('WH_Manager_ID', axis=1)"
      ],
      "metadata": {
        "id": "ij9k-OFDXcLr"
      },
      "execution_count": 115,
      "outputs": []
    },
    {
      "cell_type": "code",
      "source": [
        "data.fillna(data.mean(), inplace=True)\n",
        "data.fillna(data.mode().iloc[0], inplace=True)"
      ],
      "metadata": {
        "colab": {
          "base_uri": "https://localhost:8080/"
        },
        "id": "rKWK4nerXcSX",
        "outputId": "99b1e365-50e3-48df-986a-76f21eda5f5d"
      },
      "execution_count": 116,
      "outputs": [
        {
          "output_type": "stream",
          "name": "stderr",
          "text": [
            "<ipython-input-116-804b565a5ed4>:1: FutureWarning: The default value of numeric_only in DataFrame.mean is deprecated. In a future version, it will default to False. In addition, specifying 'numeric_only=None' is deprecated. Select only valid columns or specify the value of numeric_only to silence this warning.\n",
            "  data.fillna(data.mean(), inplace=True)\n"
          ]
        }
      ]
    },
    {
      "cell_type": "code",
      "source": [
        "label_encoder = LabelEncoder()\n",
        "data['WH_capacity_size'] = label_encoder.fit_transform(data['WH_capacity_size'])"
      ],
      "metadata": {
        "id": "tUc8LZCAXcY6"
      },
      "execution_count": 117,
      "outputs": []
    },
    {
      "cell_type": "code",
      "source": [
        "categorical_columns = ['zone', 'WH_regional_zone', 'wh_owner_type', 'approved_wh_govt_certificate', 'Location_type']\n",
        "data = pd.get_dummies(data, columns=categorical_columns)"
      ],
      "metadata": {
        "id": "inoxYUfBYd2K"
      },
      "execution_count": 118,
      "outputs": []
    },
    {
      "cell_type": "code",
      "source": [
        "print(data.isnull().sum())"
      ],
      "metadata": {
        "colab": {
          "base_uri": "https://localhost:8080/"
        },
        "id": "b4vsLaOxXcew",
        "outputId": "b0ed2759-98be-40e6-8b09-e7f68dfe0f1b"
      },
      "execution_count": 119,
      "outputs": [
        {
          "output_type": "stream",
          "name": "stdout",
          "text": [
            "Unnamed: 0                         0\n",
            "Ware_house_ID                      0\n",
            "WH_capacity_size                   0\n",
            "num_refill_req_l3m                 0\n",
            "transport_issue_l1y                0\n",
            "Competitor_in_mkt                  0\n",
            "retail_shop_num                    0\n",
            "distributor_num                    0\n",
            "flood_impacted                     0\n",
            "flood_proof                        0\n",
            "electric_supply                    0\n",
            "dist_from_hub                      0\n",
            "workers_num                        0\n",
            "wh_est_year                        0\n",
            "storage_issue_reported_l3m         0\n",
            "temp_reg_mach                      0\n",
            "wh_breakdown_l3m                   0\n",
            "govt_check_l3m                     0\n",
            "product_wg_ton                     0\n",
            "zone_East                          0\n",
            "zone_North                         0\n",
            "zone_South                         0\n",
            "zone_West                          0\n",
            "WH_regional_zone_Zone 1            0\n",
            "WH_regional_zone_Zone 2            0\n",
            "WH_regional_zone_Zone 3            0\n",
            "WH_regional_zone_Zone 4            0\n",
            "WH_regional_zone_Zone 5            0\n",
            "WH_regional_zone_Zone 6            0\n",
            "wh_owner_type_Company Owned        0\n",
            "wh_owner_type_Rented               0\n",
            "approved_wh_govt_certificate_A     0\n",
            "approved_wh_govt_certificate_A+    0\n",
            "approved_wh_govt_certificate_B     0\n",
            "approved_wh_govt_certificate_B+    0\n",
            "approved_wh_govt_certificate_C     0\n",
            "Location_type_Rural                0\n",
            "Location_type_Urban                0\n",
            "dtype: int64\n"
          ]
        }
      ]
    },
    {
      "cell_type": "code",
      "source": [
        "print(data.describe())"
      ],
      "metadata": {
        "colab": {
          "base_uri": "https://localhost:8080/"
        },
        "id": "Ke8uTlyzXcka",
        "outputId": "ee51113a-cc3f-4009-acb8-924c5ad3a233"
      },
      "execution_count": 120,
      "outputs": [
        {
          "output_type": "stream",
          "name": "stdout",
          "text": [
            "         Unnamed: 0  WH_capacity_size  num_refill_req_l3m  \\\n",
            "count  16620.000000      16620.000000        16620.000000   \n",
            "mean    8309.500000          0.785981            4.126655   \n",
            "std     4797.925072          0.742726            2.606241   \n",
            "min        0.000000          0.000000            0.000000   \n",
            "25%     4154.750000          0.000000            2.000000   \n",
            "50%     8309.500000          1.000000            4.000000   \n",
            "75%    12464.250000          1.000000            6.000000   \n",
            "max    16619.000000          2.000000            8.000000   \n",
            "\n",
            "       transport_issue_l1y  Competitor_in_mkt  retail_shop_num  \\\n",
            "count         16620.000000       16620.000000     16620.000000   \n",
            "mean              0.780927           3.103129      4983.904994   \n",
            "std               1.206351           1.147711      1051.032239   \n",
            "min               0.000000           0.000000      1821.000000   \n",
            "25%               0.000000           2.000000      4309.000000   \n",
            "50%               0.000000           3.000000      4856.000000   \n",
            "75%               1.000000           4.000000      5500.000000   \n",
            "max               5.000000          12.000000     11008.000000   \n",
            "\n",
            "       distributor_num  flood_impacted   flood_proof  electric_supply  ...  \\\n",
            "count     16620.000000    16620.000000  16620.000000     16620.000000  ...   \n",
            "mean         42.473706        0.096871      0.056017         0.655716  ...   \n",
            "std          16.090000        0.295791      0.229961         0.475149  ...   \n",
            "min          15.000000        0.000000      0.000000         0.000000  ...   \n",
            "25%          29.000000        0.000000      0.000000         0.000000  ...   \n",
            "50%          42.000000        0.000000      0.000000         1.000000  ...   \n",
            "75%          56.000000        0.000000      0.000000         1.000000  ...   \n",
            "max          70.000000        1.000000      1.000000         1.000000  ...   \n",
            "\n",
            "       WH_regional_zone_Zone 6  wh_owner_type_Company Owned  \\\n",
            "count             16620.000000                 16620.000000   \n",
            "mean                  0.335018                     0.540012   \n",
            "std                   0.472011                     0.498411   \n",
            "min                   0.000000                     0.000000   \n",
            "25%                   0.000000                     0.000000   \n",
            "50%                   0.000000                     1.000000   \n",
            "75%                   1.000000                     1.000000   \n",
            "max                   1.000000                     1.000000   \n",
            "\n",
            "       wh_owner_type_Rented  approved_wh_govt_certificate_A  \\\n",
            "count          16620.000000                    16620.000000   \n",
            "mean               0.459988                        0.188448   \n",
            "std                0.498411                        0.391081   \n",
            "min                0.000000                        0.000000   \n",
            "25%                0.000000                        0.000000   \n",
            "50%                0.000000                        0.000000   \n",
            "75%                1.000000                        0.000000   \n",
            "max                1.000000                        1.000000   \n",
            "\n",
            "       approved_wh_govt_certificate_A+  approved_wh_govt_certificate_B  \\\n",
            "count                     16620.000000                    16620.000000   \n",
            "mean                          0.166727                        0.193742   \n",
            "std                           0.372743                        0.395241   \n",
            "min                           0.000000                        0.000000   \n",
            "25%                           0.000000                        0.000000   \n",
            "50%                           0.000000                        0.000000   \n",
            "75%                           0.000000                        0.000000   \n",
            "max                           1.000000                        1.000000   \n",
            "\n",
            "       approved_wh_govt_certificate_B+  approved_wh_govt_certificate_C  \\\n",
            "count                     16620.000000                    16620.000000   \n",
            "mean                          0.196149                        0.254934   \n",
            "std                           0.397095                        0.435837   \n",
            "min                           0.000000                        0.000000   \n",
            "25%                           0.000000                        0.000000   \n",
            "50%                           0.000000                        0.000000   \n",
            "75%                           0.000000                        1.000000   \n",
            "max                           1.000000                        1.000000   \n",
            "\n",
            "       Location_type_Rural  Location_type_Urban  \n",
            "count         16620.000000         16620.000000  \n",
            "mean              0.918893             0.081107  \n",
            "std               0.273008             0.273008  \n",
            "min               0.000000             0.000000  \n",
            "25%               1.000000             0.000000  \n",
            "50%               1.000000             0.000000  \n",
            "75%               1.000000             0.000000  \n",
            "max               1.000000             1.000000  \n",
            "\n",
            "[8 rows x 37 columns]\n"
          ]
        }
      ]
    },
    {
      "cell_type": "code",
      "source": [
        "X = data.drop(['Ware_house_ID', 'product_wg_ton'], axis=1)\n",
        "y = data['product_wg_ton']"
      ],
      "metadata": {
        "id": "QIWnqNzpXcqK"
      },
      "execution_count": 121,
      "outputs": []
    },
    {
      "cell_type": "code",
      "source": [
        "X_train, X_test, y_train, y_test = train_test_split(X, y, test_size=0.2, random_state=42)"
      ],
      "metadata": {
        "id": "RmIsy5O3XcxA"
      },
      "execution_count": 122,
      "outputs": []
    },
    {
      "cell_type": "code",
      "source": [
        "scaler = StandardScaler()\n",
        "X_train_scaled = scaler.fit_transform(X_train.select_dtypes(include=['float64', 'int64']))\n",
        "X_test_scaled = scaler.transform(X_test.select_dtypes(include=['float64', 'int64']))"
      ],
      "metadata": {
        "id": "jeHb6TI4Xc3G"
      },
      "execution_count": 123,
      "outputs": []
    },
    {
      "cell_type": "code",
      "source": [
        "models = {\n",
        "    'Linear Regression': LinearRegression(),\n",
        "    'Decision Tree': DecisionTreeRegressor(),\n",
        "    'Random Forest': RandomForestRegressor(),\n",
        "}"
      ],
      "metadata": {
        "id": "FbAnXvDBXc8T"
      },
      "execution_count": 124,
      "outputs": []
    },
    {
      "cell_type": "code",
      "source": [
        "for name, model in models.items():\n",
        "    model.fit(X_train_scaled, y_train)\n",
        "    predictions = model.predict(X_test_scaled)\n",
        "\n",
        "    mae = mean_absolute_error(y_test, predictions)\n",
        "    rmse = mean_squared_error(y_test, predictions, squared=False)\n",
        "\n",
        "    print(f'{name} - MAE: {mae:.2f}, RMSE: {rmse:.2f}')"
      ],
      "metadata": {
        "colab": {
          "base_uri": "https://localhost:8080/"
        },
        "id": "ZMHylTQYXdB7",
        "outputId": "d3638179-a4ca-473d-fbdb-2543839871d1"
      },
      "execution_count": 125,
      "outputs": [
        {
          "output_type": "stream",
          "name": "stdout",
          "text": [
            "Linear Regression - MAE: 1284.60, RMSE: 1752.22\n",
            "Decision Tree - MAE: 1381.78, RMSE: 1907.92\n",
            "Random Forest - MAE: 1047.53, RMSE: 1366.40\n"
          ]
        }
      ]
    },
    {
      "cell_type": "code",
      "source": [
        "best_model = RandomForestRegressor()"
      ],
      "metadata": {
        "id": "GFs-FKFOXdHl"
      },
      "execution_count": 126,
      "outputs": []
    },
    {
      "cell_type": "code",
      "source": [
        "best_model.fit(X_train_scaled, y_train)\n",
        "all_predictions = best_model.predict(X_test_scaled)"
      ],
      "metadata": {
        "id": "Ba3JJURZXdNS"
      },
      "execution_count": 127,
      "outputs": []
    },
    {
      "cell_type": "code",
      "source": [
        "plt.scatter(y_test, all_predictions)\n",
        "plt.xlabel('Actual Product Weight')\n",
        "plt.ylabel('Predicted Product Weight')\n",
        "plt.title('Predicted vs Actual Product Weight')\n",
        "plt.show()"
      ],
      "metadata": {
        "colab": {
          "base_uri": "https://localhost:8080/",
          "height": 472
        },
        "id": "G4h58CjBXdTR",
        "outputId": "febc97e2-ab55-4231-879c-aef890eed90a"
      },
      "execution_count": 128,
      "outputs": [
        {
          "output_type": "display_data",
          "data": {
            "text/plain": [
              "<Figure size 640x480 with 1 Axes>"
            ],
            "image/png": "[encoded data removed]"
          },
          "metadata": {}
        }
      ]
    },
    {
      "cell_type": "code",
      "source": [],
      "metadata": {
        "id": "E1yLMC8pXdZQ"
      },
      "execution_count": null,
      "outputs": []
    },
    {
      "cell_type": "code",
      "source": [],
      "metadata": {
        "id": "mNDg-ySvXdfG"
      },
      "execution_count": null,
      "outputs": []
    },
    {
      "cell_type": "code",
      "source": [],
      "metadata": {
        "id": "kp16LB4vXdlW"
      },
      "execution_count": null,
      "outputs": []
    },
    {
      "cell_type": "code",
      "source": [],
      "metadata": {
        "id": "sSZrl0ohXdrA"
      },
      "execution_count": null,
      "outputs": []
    },
    {
      "cell_type": "code",
      "source": [],
      "metadata": {
        "id": "DXVCQGoaXdxO"
      },
      "execution_count": null,
      "outputs": []
    },
    {
      "cell_type": "code",
      "source": [],
      "metadata": {
        "id": "GdmU844OXd2v"
      },
      "execution_count": null,
      "outputs": []
    },
    {
      "cell_type": "code",
      "source": [],
      "metadata": {
        "id": "b5vLZkHHXd8B"
      },
      "execution_count": null,
      "outputs": []
    },
    {
      "cell_type": "code",
      "source": [],
      "metadata": {
        "id": "WEZuDzgNXeBi"
      },
      "execution_count": null,
      "outputs": []
    }
  ]
}